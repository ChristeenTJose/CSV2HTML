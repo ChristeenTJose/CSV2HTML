{
  "nbformat": 4,
  "nbformat_minor": 0,
  "metadata": {
    "colab": {
      "name": "CSV2HTMLipynb",
      "provenance": [],
      "collapsed_sections": [],
      "authorship_tag": "ABX9TyOL2EjhobCOPGzjvBLhjMx/",
      "include_colab_link": true
    },
    "kernelspec": {
      "name": "python3",
      "display_name": "Python 3"
    }
  },
  "cells": [
    {
      "cell_type": "markdown",
      "metadata": {
        "id": "view-in-github",
        "colab_type": "text"
      },
      "source": [
        "<a href=\"https://colab.research.google.com/github/ChristeenTJose/CSV2HTML/blob/main/CSV2HTML.ipynb\" target=\"_parent\"><img src=\"https://colab.research.google.com/assets/colab-badge.svg\" alt=\"Open In Colab\"/></a>"
      ]
    },
    {
      "cell_type": "code",
      "metadata": {
        "id": "PyaZJuL_Do2Q"
      },
      "source": [
        "import pandas as pd"
      ],
      "execution_count": null,
      "outputs": []
    },
    {
      "cell_type": "code",
      "metadata": {
        "id": "yaw31IbTQ7xl",
        "colab": {
          "base_uri": "https://localhost:8080/",
          "height": 195
        },
        "outputId": "7a29b369-dc71-4b65-cc0a-ebd23d086cbf"
      },
      "source": [
        "dataset = pd.read_csv('/content/amazon_alexa.csv')\r\n",
        "dataset.head()"
      ],
      "execution_count": null,
      "outputs": [
        {
          "output_type": "execute_result",
          "data": {
            "text/html": [
              "<div>\n",
              "<style scoped>\n",
              "    .dataframe tbody tr th:only-of-type {\n",
              "        vertical-align: middle;\n",
              "    }\n",
              "\n",
              "    .dataframe tbody tr th {\n",
              "        vertical-align: top;\n",
              "    }\n",
              "\n",
              "    .dataframe thead th {\n",
              "        text-align: right;\n",
              "    }\n",
              "</style>\n",
              "<table border=\"1\" class=\"dataframe\">\n",
              "  <thead>\n",
              "    <tr style=\"text-align: right;\">\n",
              "      <th></th>\n",
              "      <th>rating</th>\n",
              "      <th>date</th>\n",
              "      <th>variation</th>\n",
              "      <th>verified_reviews</th>\n",
              "      <th>feedback</th>\n",
              "    </tr>\n",
              "  </thead>\n",
              "  <tbody>\n",
              "    <tr>\n",
              "      <th>0</th>\n",
              "      <td>5</td>\n",
              "      <td>31-Jul-18</td>\n",
              "      <td>Charcoal Fabric</td>\n",
              "      <td>Love my Echo!</td>\n",
              "      <td>1</td>\n",
              "    </tr>\n",
              "    <tr>\n",
              "      <th>1</th>\n",
              "      <td>5</td>\n",
              "      <td>31-Jul-18</td>\n",
              "      <td>Charcoal Fabric</td>\n",
              "      <td>Loved it!</td>\n",
              "      <td>1</td>\n",
              "    </tr>\n",
              "    <tr>\n",
              "      <th>2</th>\n",
              "      <td>4</td>\n",
              "      <td>31-Jul-18</td>\n",
              "      <td>Walnut Finish</td>\n",
              "      <td>Sometimes while playing a game, you can answer...</td>\n",
              "      <td>1</td>\n",
              "    </tr>\n",
              "    <tr>\n",
              "      <th>3</th>\n",
              "      <td>5</td>\n",
              "      <td>31-Jul-18</td>\n",
              "      <td>Charcoal Fabric</td>\n",
              "      <td>I have had a lot of fun with this thing. My 4 ...</td>\n",
              "      <td>1</td>\n",
              "    </tr>\n",
              "    <tr>\n",
              "      <th>4</th>\n",
              "      <td>5</td>\n",
              "      <td>31-Jul-18</td>\n",
              "      <td>Charcoal Fabric</td>\n",
              "      <td>Music</td>\n",
              "      <td>1</td>\n",
              "    </tr>\n",
              "  </tbody>\n",
              "</table>\n",
              "</div>"
            ],
            "text/plain": [
              "   rating  ... feedback\n",
              "0       5  ...        1\n",
              "1       5  ...        1\n",
              "2       4  ...        1\n",
              "3       5  ...        1\n",
              "4       5  ...        1\n",
              "\n",
              "[5 rows x 5 columns]"
            ]
          },
          "metadata": {
            "tags": []
          },
          "execution_count": 17
        }
      ]
    },
    {
      "cell_type": "code",
      "metadata": {
        "colab": {
          "base_uri": "https://localhost:8080/"
        },
        "id": "hHuZmsGcRObb",
        "outputId": "c0297fca-8736-4c0b-bb8b-b170bd1d08fa"
      },
      "source": [
        "questions = dataset.columns\r\n",
        "questions"
      ],
      "execution_count": null,
      "outputs": [
        {
          "output_type": "execute_result",
          "data": {
            "text/plain": [
              "Index(['rating', 'date', 'variation', 'verified_reviews', 'feedback'], dtype='object')"
            ]
          },
          "metadata": {
            "tags": []
          },
          "execution_count": 18
        }
      ]
    },
    {
      "cell_type": "code",
      "metadata": {
        "id": "9E6gPPNFXd8y"
      },
      "source": [
        "HTML_file_name = 'Amazon_Alexa.html'\r\n",
        "title = 'Alexa Reviews'\r\n",
        "heading = 'Amazon Alexa Reviews'\r\n",
        "sub_heading = '2018'\r\n",
        "colors = ['#004080','#800000']\r\n",
        "n_colors = len(colors)\r\n"
      ],
      "execution_count": null,
      "outputs": []
    },
    {
      "cell_type": "code",
      "metadata": {
        "id": "RqjM8mmQSQbb"
      },
      "source": [
        "with open(HTML_file_name,'w') as html_file:\r\n",
        "  content =  '<!doctype html>'\r\n",
        "  content += '<html lang=\"en\">'\r\n",
        "  content += '<head>'\r\n",
        "  content += '<meta charset=\"utf-8\"/>'\r\n",
        "  content += '<title>' + title + '</title>'\r\n",
        "  content += '<style>'\r\n",
        "  content += 'body,html'\r\n",
        "  content += '{'\r\n",
        "  content += '   margin: 0px;'\r\n",
        "  content += '   padding: 0px;'\r\n",
        "  content += '   background-color: white;'\r\n",
        "  content += '   color: white;'\r\n",
        "  content += '   font-size: 25px;' \r\n",
        "  content += '   text-align: justify;'\r\n",
        "  content +=\t'}'\r\n",
        "  content += 'h1,h2'\r\n",
        "  content += '{'\r\n",
        "  content += '   text-align: center;'\r\n",
        "  content += '   color: black;'\r\n",
        "  content +=\t'}'\r\n",
        "  content += 'h3'\r\n",
        "  content += '{'\r\n",
        "  content += '   text-align: center;'\r\n",
        "  content += '   font-size: 35px;' \r\n",
        "  content +=\t'}'\r\n",
        "  content += '.applicant'\r\n",
        "  content += '{'\r\n",
        "  content += '   width: 100%;'\r\n",
        "  content += '   display: inline-block;'\r\n",
        "  content +=\t'}'\r\n",
        "  content += '.question'\r\n",
        "  content += '{'\r\n",
        "  content += '   width: 40%;'\r\n",
        "  content += '   text-align: justify;'\r\n",
        "  content += '   display: inline-block;'\r\n",
        "  content += '   padding-top: 10px;'\r\n",
        "  content += '   margin-left: 3%;'\r\n",
        "  content +=\t'}'\r\n",
        "  content += '.answer'\r\n",
        "  content += '{'\r\n",
        "  content += '   width: 50%;'\r\n",
        "  content += '   text-align: justify;'\r\n",
        "  content += '   display: inline-block;'\r\n",
        "  content += '   padding-top: 10px;'\r\n",
        "  content += '   margin-left: 3%;'\r\n",
        "  content +=\t'}'\r\n",
        "  content += '</style>'\r\n",
        "  content += '</head>'\r\n",
        "  content += '<body>'\r\n",
        "  content += '<h1>' + heading + '</h1>'\r\n",
        "  content += '<h2>' + sub_heading + '</h2>'\r\n",
        "\r\n",
        "  for i in range(len(dataset)):\r\n",
        "    content += '<div class = \"applicant\" style=\"background-color: ' + colors[i % n_colors] + ';\">'\r\n",
        "    #content += '<h3>' +  str(i + 1) + '. ' + dataset.loc[i]['Name'] + '</h3>'\r\n",
        "    for question in questions:\r\n",
        "      content += '<div class = \"question\">' + question + '</div>'\r\n",
        "      content += '<div class = \"answer\">' + str(dataset.loc[i][question]) + '</div><br><br>'\r\n",
        "    content += '</div>'\r\n",
        "  content += '</body>'\r\n",
        "  content += '</html>'\r\n",
        "  html_file.write(content)"
      ],
      "execution_count": null,
      "outputs": []
    }
  ]
}